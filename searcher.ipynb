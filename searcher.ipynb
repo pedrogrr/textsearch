{
 "cells": [
  {
   "cell_type": "code",
   "execution_count": 37,
   "id": "2a610749",
   "metadata": {},
   "outputs": [
    {
     "name": "stdout",
     "output_type": "stream",
     "text": [
      "Search directory: \n",
      "\n",
      "Indicated dir:  C://Users/privero2/Documents/roche/data\n",
      "Search Word: \n",
      "different\n"
     ]
    }
   ],
   "source": [
    "import pandas as pd\n",
    "import glob as glob\n",
    "import sys\n",
    "import os\n",
    "from bm25 import BM25\n",
    "from archivos import *\n",
    " \n",
    "print(\"Search directory: \")\n",
    "dir = input()\n",
    "if dir==\"\":\n",
    "    dir = 'C://Users/privero2/Documents/roche/data'\n",
    "print(\"Indicated dir: \",dir)\n",
    "print(\"Search Word: \")\n",
    "searchword = input()"
   ]
  },
  {
   "cell_type": "code",
   "execution_count": 38,
   "id": "92d75998",
   "metadata": {},
   "outputs": [
    {
     "name": "stdout",
     "output_type": "stream",
     "text": [
      "3 files found in C://Users/privero2/Documents/roche/data\n",
      "                                          0\n",
      "0          This is my one test out of many!\n",
      "1                       To be or not to be.\n",
      "0           This could be his another test.\n",
      "1                         -be or not to be.\n",
      "0  John's tests are different than my test.\n",
      "1                             To be-or-not-\n",
      "2                             To be-or-not-\n",
      "['0', '0', 'this', 'is', 'my', 'one', 'test', 'out', 'of', 'many!', '1', 'to', 'be', 'or', 'not', 'to', 'be.', '0', 'this', 'could', 'be', 'his', 'another', 'test.', '1', '-be', 'or', 'not', 'to', 'be.', '0', \"john's\", 'tests', 'are', 'different', 'than', 'my', 'test.', '1', 'to', 'be-or-not-', '2', 'to', 'be-or-not-']\n"
     ]
    }
   ],
   "source": [
    "###link to data:\n",
    "#https://drive.google.com/file/d/1pJFPa5772JiXWxZ9pGpwNbO6D0BBCEXZ/view?usp=sharing\n",
    "archivos_texto = buscar_archivos(dir)\n",
    "column_names=[0,1]\n",
    "print(str(len(archivos_texto))+' files found in '+dir)\n",
    "list_dir=[]\n",
    "cont=1\n",
    "for texto in archivos_texto:\n",
    "    df = pd.read_csv(texto,header=None)\n",
    "    cont+=1\n",
    "    list_dir.append(df)\n",
    "df=pd.concat(list_dir)\n",
    "print(df)\n",
    "df=str(df).lower().split()\n",
    "print(df)"
   ]
  },
  {
   "cell_type": "code",
   "execution_count": 39,
   "id": "2b74495e",
   "metadata": {},
   "outputs": [
    {
     "name": "stdout",
     "output_type": "stream",
     "text": [
      "[0.         0.         0.         0.         0.         0.\n",
      " 0.         0.         0.         0.         0.         0.\n",
      " 0.         0.         0.         0.         0.         0.\n",
      " 0.         0.         0.         0.         0.         0.\n",
      " 0.         0.         0.         0.         0.         0.\n",
      " 0.         3.36729583 0.         0.         0.         0.\n",
      " 0.         0.         0.         0.         0.         0.\n",
      " 0.         0.        ]\n"
     ]
    }
   ],
   "source": [
    "tokenized_corpus = [doc.split(\" \") for doc in df]\n",
    "bm25 = BM25Okapi(tokenized_corpus)\n",
    "query = \"John's\".lower() ## Enter search query\n",
    "tokenized_query = query.split(\" \")\n",
    "doc_scores = bm25.get_scores(tokenized_query)\n",
    "print(doc_scores)"
   ]
  },
  {
   "cell_type": "code",
   "execution_count": 40,
   "id": "3b3eaad8",
   "metadata": {},
   "outputs": [
    {
     "name": "stdout",
     "output_type": "stream",
     "text": [
      "[\"john's\", 'be-or-not-', 'be', 'this', '0', 'be.', 'to', 'not', 'or', 'be']\n"
     ]
    }
   ],
   "source": [
    "docs = bm25.get_top_n(tokenized_query, df, n=10)\n",
    "print(docs)"
   ]
  }
 ],
 "metadata": {
  "kernelspec": {
   "display_name": "Python 3 (ipykernel)",
   "language": "python",
   "name": "python3"
  },
  "language_info": {
   "codemirror_mode": {
    "name": "ipython",
    "version": 3
   },
   "file_extension": ".py",
   "mimetype": "text/x-python",
   "name": "python",
   "nbconvert_exporter": "python",
   "pygments_lexer": "ipython3",
   "version": "3.11.0"
  }
 },
 "nbformat": 4,
 "nbformat_minor": 5
}
